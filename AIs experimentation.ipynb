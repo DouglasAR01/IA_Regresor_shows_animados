{
 "cells": [
  {
   "cell_type": "code",
   "execution_count": 102,
   "metadata": {},
   "outputs": [],
   "source": [
    "import pandas as pd\n",
    "import numpy as np\n",
    "import matplotlib.pyplot as plt\n",
    "#Regressors\n",
    "from sklearn.tree import DecisionTreeRegressor\n",
    "from sklearn.svm import SVR\n",
    "from sklearn.ensemble import RandomForestRegressor\n",
    "from sklearn.ensemble import GradientBoostingRegressor\n",
    "#Metrics\n",
    "from sklearn.model_selection import KFold\n",
    "from sklearn.model_selection import cross_val_score\n",
    "from sklearn.metrics import *\n",
    "%matplotlib inline\n",
    "#Clustering\n",
    "from sklearn.cluster import KMeans \n",
    "from sklearn.cluster import DBSCAN\n",
    "#Otros\n",
    "from sklearn.multioutput import MultiOutputRegressor"
   ]
  },
  {
   "cell_type": "markdown",
   "metadata": {},
   "source": [
    "### CSV Loading"
   ]
  },
  {
   "cell_type": "code",
   "execution_count": 103,
   "metadata": {},
   "outputs": [],
   "source": [
    "dataset = pd.read_csv('./data/t_data/anime_cleaned_treated_v2_4_b.csv')"
   ]
  },
  {
   "cell_type": "code",
   "execution_count": 104,
   "metadata": {},
   "outputs": [
    {
     "data": {
      "text/html": [
       "<div>\n",
       "<style scoped>\n",
       "    .dataframe tbody tr th:only-of-type {\n",
       "        vertical-align: middle;\n",
       "    }\n",
       "\n",
       "    .dataframe tbody tr th {\n",
       "        vertical-align: top;\n",
       "    }\n",
       "\n",
       "    .dataframe thead th {\n",
       "        text-align: right;\n",
       "    }\n",
       "</style>\n",
       "<table border=\"1\" class=\"dataframe\">\n",
       "  <thead>\n",
       "    <tr style=\"text-align: right;\">\n",
       "      <th></th>\n",
       "      <th>Genres</th>\n",
       "      <th>Source</th>\n",
       "      <th>Type</th>\n",
       "      <th>Episodes</th>\n",
       "      <th>Decimal</th>\n",
       "      <th>Romance</th>\n",
       "      <th>Shoujo</th>\n",
       "      <th>Ecchi</th>\n",
       "      <th>Shounen</th>\n",
       "      <th>Fantasy</th>\n",
       "      <th>...</th>\n",
       "      <th>Mistery</th>\n",
       "      <th>Thriller</th>\n",
       "      <th>Supernatural</th>\n",
       "      <th>Gore</th>\n",
       "      <th>SciFi</th>\n",
       "      <th>Action</th>\n",
       "      <th>Otro</th>\n",
       "      <th>Members</th>\n",
       "      <th>Score</th>\n",
       "      <th>Favorites</th>\n",
       "    </tr>\n",
       "  </thead>\n",
       "  <tbody>\n",
       "    <tr>\n",
       "      <th>0</th>\n",
       "      <td>Comedy, Romance, Shounen, Supernatural</td>\n",
       "      <td>6</td>\n",
       "      <td>5</td>\n",
       "      <td>12</td>\n",
       "      <td>147</td>\n",
       "      <td>1</td>\n",
       "      <td>0</td>\n",
       "      <td>0</td>\n",
       "      <td>1</td>\n",
       "      <td>0</td>\n",
       "      <td>...</td>\n",
       "      <td>0</td>\n",
       "      <td>0</td>\n",
       "      <td>1</td>\n",
       "      <td>0</td>\n",
       "      <td>0</td>\n",
       "      <td>0</td>\n",
       "      <td>0</td>\n",
       "      <td>283882</td>\n",
       "      <td>7.63</td>\n",
       "      <td>2809</td>\n",
       "    </tr>\n",
       "    <tr>\n",
       "      <th>1</th>\n",
       "      <td>Comedy, Romance, Shounen</td>\n",
       "      <td>6</td>\n",
       "      <td>5</td>\n",
       "      <td>26</td>\n",
       "      <td>19</td>\n",
       "      <td>1</td>\n",
       "      <td>0</td>\n",
       "      <td>0</td>\n",
       "      <td>1</td>\n",
       "      <td>0</td>\n",
       "      <td>...</td>\n",
       "      <td>0</td>\n",
       "      <td>0</td>\n",
       "      <td>0</td>\n",
       "      <td>0</td>\n",
       "      <td>0</td>\n",
       "      <td>0</td>\n",
       "      <td>0</td>\n",
       "      <td>204003</td>\n",
       "      <td>7.89</td>\n",
       "      <td>2579</td>\n",
       "    </tr>\n",
       "    <tr>\n",
       "      <th>2</th>\n",
       "      <td>Comedy, Romance, Fantasy, Shoujo</td>\n",
       "      <td>6</td>\n",
       "      <td>5</td>\n",
       "      <td>51</td>\n",
       "      <td>519</td>\n",
       "      <td>1</td>\n",
       "      <td>1</td>\n",
       "      <td>0</td>\n",
       "      <td>0</td>\n",
       "      <td>1</td>\n",
       "      <td>...</td>\n",
       "      <td>0</td>\n",
       "      <td>0</td>\n",
       "      <td>0</td>\n",
       "      <td>0</td>\n",
       "      <td>0</td>\n",
       "      <td>0</td>\n",
       "      <td>0</td>\n",
       "      <td>70127</td>\n",
       "      <td>7.55</td>\n",
       "      <td>802</td>\n",
       "    </tr>\n",
       "    <tr>\n",
       "      <th>3</th>\n",
       "      <td>Comedy, Romance, Fantasy</td>\n",
       "      <td>9</td>\n",
       "      <td>5</td>\n",
       "      <td>38</td>\n",
       "      <td>7</td>\n",
       "      <td>1</td>\n",
       "      <td>0</td>\n",
       "      <td>0</td>\n",
       "      <td>0</td>\n",
       "      <td>1</td>\n",
       "      <td>...</td>\n",
       "      <td>0</td>\n",
       "      <td>0</td>\n",
       "      <td>0</td>\n",
       "      <td>0</td>\n",
       "      <td>0</td>\n",
       "      <td>0</td>\n",
       "      <td>0</td>\n",
       "      <td>93312</td>\n",
       "      <td>8.21</td>\n",
       "      <td>3344</td>\n",
       "    </tr>\n",
       "    <tr>\n",
       "      <th>4</th>\n",
       "      <td>Comedy, Romance, Shounen</td>\n",
       "      <td>6</td>\n",
       "      <td>5</td>\n",
       "      <td>25</td>\n",
       "      <td>19</td>\n",
       "      <td>1</td>\n",
       "      <td>0</td>\n",
       "      <td>0</td>\n",
       "      <td>1</td>\n",
       "      <td>0</td>\n",
       "      <td>...</td>\n",
       "      <td>0</td>\n",
       "      <td>0</td>\n",
       "      <td>0</td>\n",
       "      <td>0</td>\n",
       "      <td>0</td>\n",
       "      <td>0</td>\n",
       "      <td>0</td>\n",
       "      <td>182765</td>\n",
       "      <td>8.67</td>\n",
       "      <td>2082</td>\n",
       "    </tr>\n",
       "  </tbody>\n",
       "</table>\n",
       "<p>5 rows × 25 columns</p>\n",
       "</div>"
      ],
      "text/plain": [
       "                                   Genres  Source  Type  Episodes  Decimal  \\\n",
       "0  Comedy, Romance, Shounen, Supernatural       6     5        12      147   \n",
       "1                Comedy, Romance, Shounen       6     5        26       19   \n",
       "2        Comedy, Romance, Fantasy, Shoujo       6     5        51      519   \n",
       "3                Comedy, Romance, Fantasy       9     5        38        7   \n",
       "4                Comedy, Romance, Shounen       6     5        25       19   \n",
       "\n",
       "   Romance  Shoujo  Ecchi  Shounen  Fantasy    ...      Mistery  Thriller  \\\n",
       "0        1       0      0        1        0    ...            0         0   \n",
       "1        1       0      0        1        0    ...            0         0   \n",
       "2        1       1      0        0        1    ...            0         0   \n",
       "3        1       0      0        0        1    ...            0         0   \n",
       "4        1       0      0        1        0    ...            0         0   \n",
       "\n",
       "   Supernatural  Gore  SciFi  Action  Otro  Members  Score  Favorites  \n",
       "0             1     0      0       0     0   283882   7.63       2809  \n",
       "1             0     0      0       0     0   204003   7.89       2579  \n",
       "2             0     0      0       0     0    70127   7.55        802  \n",
       "3             0     0      0       0     0    93312   8.21       3344  \n",
       "4             0     0      0       0     0   182765   8.67       2082  \n",
       "\n",
       "[5 rows x 25 columns]"
      ]
     },
     "execution_count": 104,
     "metadata": {},
     "output_type": "execute_result"
    }
   ],
   "source": [
    "dataset.head()"
   ]
  },
  {
   "cell_type": "markdown",
   "metadata": {},
   "source": [
    "### Training"
   ]
  },
  {
   "cell_type": "code",
   "execution_count": 105,
   "metadata": {},
   "outputs": [
    {
     "name": "stdout",
     "output_type": "stream",
     "text": [
      "[283882 7.63]\n"
     ]
    }
   ],
   "source": [
    "data = dataset.values\n",
    "X = data[:int(len(data)*0.7),1:22]\n",
    "y = data[:int(len(data)*0.7),22:24]\n",
    "X_t = data[int(len(data)*0.7):,1:22]\n",
    "y_t = data[int(len(data)*0.7):,22:24]\n",
    "print y[0]"
   ]
  },
  {
   "cell_type": "code",
   "execution_count": 106,
   "metadata": {},
   "outputs": [],
   "source": [
    "DT_R = DecisionTreeRegressor(max_depth=5)\n",
    "RF_R = RandomForestRegressor(n_estimators=40)\n",
    "GB_R = MultiOutputRegressor(GradientBoostingRegressor())\n",
    "#np.array([6,5,12,147]).reshape(1,-1)"
   ]
  },
  {
   "cell_type": "code",
   "execution_count": 107,
   "metadata": {},
   "outputs": [
    {
     "data": {
      "text/plain": [
       "MultiOutputRegressor(estimator=GradientBoostingRegressor(alpha=0.9, criterion='friedman_mse', init=None,\n",
       "             learning_rate=0.1, loss='ls', max_depth=3, max_features=None,\n",
       "             max_leaf_nodes=None, min_impurity_decrease=0.0,\n",
       "             min_impurity_split=None, min_samples_leaf=1,\n",
       "             min_samples_split=2, min_weight_fraction_leaf=0.0,\n",
       "             n_estimators=100, presort='auto', random_state=None,\n",
       "             subsample=1.0, verbose=0, warm_start=False),\n",
       "           n_jobs=1)"
      ]
     },
     "execution_count": 107,
     "metadata": {},
     "output_type": "execute_result"
    }
   ],
   "source": [
    "DT_R.fit(X,y)\n",
    "RF_R.fit(X,y)\n",
    "GB_R.fit(X,y)"
   ]
  },
  {
   "cell_type": "code",
   "execution_count": 108,
   "metadata": {},
   "outputs": [
    {
     "name": "stdout",
     "output_type": "stream",
     "text": [
      "18\n",
      "1456378\n",
      "70579.2284386\n"
     ]
    }
   ],
   "source": [
    "print np.min(dataset['Members'])\n",
    "print np.max(dataset['Members'])\n",
    "m = dataset['Members'].sort_values()\n",
    "print np.mean([abs(m[i]-m[i-1]) for i in range(1,len(m))])"
   ]
  },
  {
   "cell_type": "code",
   "execution_count": 109,
   "metadata": {},
   "outputs": [
    {
     "name": "stdout",
     "output_type": "stream",
     "text": [
      "=============\n",
      "[[  7.85234250e+04   7.27295833e+00]]\n",
      "[[  9.10855379e+04   7.19682759e+00]]\n",
      "[[  1.27706730e+05   7.44853863e+00]]\n",
      "[699351 8.56]\n"
     ]
    }
   ],
   "source": [
    "for i in range(1):\n",
    "    print \"=============\"\n",
    "    print RF_R.predict(X_t[i].reshape(1,-1))\n",
    "    print DT_R.predict(X_t[i].reshape(1,-1))\n",
    "    print GB_R.predict(X_t[i].reshape(1,-1))\n",
    "    print y_t[i]"
   ]
  },
  {
   "cell_type": "code",
   "execution_count": 110,
   "metadata": {},
   "outputs": [
    {
     "name": "stdout",
     "output_type": "stream",
     "text": [
      "MSE 63670.439 (+/- 26003.35061)\n"
     ]
    }
   ],
   "source": [
    "s = cross_val_score(DT_R, X_t, y_t, scoring=make_scorer(mean_squared_error))\n",
    "print \"MSE %.3f (+/- %.5f)\"%(np.sqrt(np.mean(s)), np.sqrt(np.std(s)))"
   ]
  },
  {
   "cell_type": "code",
   "execution_count": 111,
   "metadata": {},
   "outputs": [
    {
     "name": "stdout",
     "output_type": "stream",
     "text": [
      "MSE 62999.349 (+/- 26997.78543)\n"
     ]
    }
   ],
   "source": [
    "s = cross_val_score(RF_R, X_t, y_t, scoring=make_scorer(mean_squared_error))\n",
    "print \"MSE %.3f (+/- %.5f)\"%(np.sqrt(np.mean(s)), np.sqrt(np.std(s)))"
   ]
  },
  {
   "cell_type": "code",
   "execution_count": 112,
   "metadata": {},
   "outputs": [
    {
     "name": "stdout",
     "output_type": "stream",
     "text": [
      "MSE 62499.640 (+/- 29783.58133)\n"
     ]
    }
   ],
   "source": [
    "s = cross_val_score(GB_R, X_t, y_t, scoring=make_scorer(mean_squared_error))\n",
    "print \"MSE %.3f (+/- %.5f)\"%(np.sqrt(np.mean(s)), np.sqrt(np.std(s)))"
   ]
  },
  {
   "cell_type": "markdown",
   "metadata": {},
   "source": [
    "### Arbitrary new anime prediction test"
   ]
  },
  {
   "cell_type": "code",
   "execution_count": 114,
   "metadata": {},
   "outputs": [],
   "source": [
    "new_anime = np.array([6,5,24,50822,1,1,0,0,0,0,0,0,1,0,1,1,1,0,1,0,0]).reshape(1,-1)"
   ]
  },
  {
   "cell_type": "code",
   "execution_count": 115,
   "metadata": {},
   "outputs": [
    {
     "data": {
      "text/plain": [
       "array([[  1.57893100e+05,   6.90995925e+00]])"
      ]
     },
     "execution_count": 115,
     "metadata": {},
     "output_type": "execute_result"
    }
   ],
   "source": [
    "GB_R.predict(new_anime)"
   ]
  },
  {
   "cell_type": "markdown",
   "metadata": {},
   "source": [
    "### Object persistence"
   ]
  },
  {
   "cell_type": "code",
   "execution_count": 117,
   "metadata": {},
   "outputs": [],
   "source": [
    "import pickle\n",
    "with open('regressors.pkl', 'wb') as output:\n",
    "    pickle.dump(DT_R, output, pickle.HIGHEST_PROTOCOL)\n",
    "    pickle.dump(RF_R, output, pickle.HIGHEST_PROTOCOL)\n",
    "    pickle.dump(GB_R, output, pickle.HIGHEST_PROTOCOL)\n"
   ]
  },
  {
   "cell_type": "code",
   "execution_count": null,
   "metadata": {},
   "outputs": [],
   "source": []
  }
 ],
 "metadata": {
  "kernelspec": {
   "display_name": "Python 2",
   "language": "python",
   "name": "python2"
  },
  "language_info": {
   "codemirror_mode": {
    "name": "ipython",
    "version": 2
   },
   "file_extension": ".py",
   "mimetype": "text/x-python",
   "name": "python",
   "nbconvert_exporter": "python",
   "pygments_lexer": "ipython2",
   "version": "2.7.14"
  }
 },
 "nbformat": 4,
 "nbformat_minor": 2
}

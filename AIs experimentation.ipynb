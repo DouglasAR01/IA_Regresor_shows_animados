{
 "cells": [
  {
   "cell_type": "code",
   "execution_count": 23,
   "metadata": {},
   "outputs": [],
   "source": [
    "import pandas as pd\n",
    "import numpy as np\n",
    "import matplotlib.pyplot as plt\n",
    "from sklearn.tree import DecisionTreeRegressor\n",
    "from sklearn.svm import SVR\n",
    "from sklearn.linear_model import LogisticRegression\n",
    "from sklearn.model_selection import KFold\n",
    "from sklearn.model_selection import cross_val_score\n",
    "from sklearn.metrics import *\n",
    "%matplotlib inline\n",
    "from sklearn.cluster import KMeans \n",
    "from sklearn.cluster import DBSCAN"
   ]
  },
  {
   "cell_type": "markdown",
   "metadata": {},
   "source": [
    "### CSV Loading"
   ]
  },
  {
   "cell_type": "code",
   "execution_count": 7,
   "metadata": {},
   "outputs": [],
   "source": [
    "dataset = pd.read_csv('./data/anime_cleaned_treated_v1_1.csv')"
   ]
  },
  {
   "cell_type": "code",
   "execution_count": 42,
   "metadata": {},
   "outputs": [
    {
     "data": {
      "text/html": [
       "<div>\n",
       "<style scoped>\n",
       "    .dataframe tbody tr th:only-of-type {\n",
       "        vertical-align: middle;\n",
       "    }\n",
       "\n",
       "    .dataframe tbody tr th {\n",
       "        vertical-align: top;\n",
       "    }\n",
       "\n",
       "    .dataframe thead th {\n",
       "        text-align: right;\n",
       "    }\n",
       "</style>\n",
       "<table border=\"1\" class=\"dataframe\">\n",
       "  <thead>\n",
       "    <tr style=\"text-align: right;\">\n",
       "      <th></th>\n",
       "      <th>Genres</th>\n",
       "      <th>Source</th>\n",
       "      <th>Type</th>\n",
       "      <th>Episodes</th>\n",
       "      <th>Score</th>\n",
       "      <th>Favorites</th>\n",
       "      <th>Decimal</th>\n",
       "      <th>Popularity</th>\n",
       "    </tr>\n",
       "  </thead>\n",
       "  <tbody>\n",
       "    <tr>\n",
       "      <th>0</th>\n",
       "      <td>Comedy, Romance, Shounen, Supernatural</td>\n",
       "      <td>Manga</td>\n",
       "      <td>TV</td>\n",
       "      <td>12</td>\n",
       "      <td>7.63</td>\n",
       "      <td>2809</td>\n",
       "      <td>147</td>\n",
       "      <td>231</td>\n",
       "    </tr>\n",
       "    <tr>\n",
       "      <th>1</th>\n",
       "      <td>Comedy, Romance, Shounen</td>\n",
       "      <td>Manga</td>\n",
       "      <td>TV</td>\n",
       "      <td>26</td>\n",
       "      <td>7.89</td>\n",
       "      <td>2579</td>\n",
       "      <td>19</td>\n",
       "      <td>366</td>\n",
       "    </tr>\n",
       "    <tr>\n",
       "      <th>2</th>\n",
       "      <td>Comedy, Romance, Fantasy, Shoujo</td>\n",
       "      <td>Manga</td>\n",
       "      <td>TV</td>\n",
       "      <td>51</td>\n",
       "      <td>7.55</td>\n",
       "      <td>802</td>\n",
       "      <td>519</td>\n",
       "      <td>1173</td>\n",
       "    </tr>\n",
       "    <tr>\n",
       "      <th>3</th>\n",
       "      <td>Comedy, Romance, Fantasy</td>\n",
       "      <td>Original</td>\n",
       "      <td>TV</td>\n",
       "      <td>38</td>\n",
       "      <td>8.21</td>\n",
       "      <td>3344</td>\n",
       "      <td>7</td>\n",
       "      <td>916</td>\n",
       "    </tr>\n",
       "    <tr>\n",
       "      <th>4</th>\n",
       "      <td>Comedy, Romance, Shounen</td>\n",
       "      <td>Manga</td>\n",
       "      <td>TV</td>\n",
       "      <td>25</td>\n",
       "      <td>8.67</td>\n",
       "      <td>2082</td>\n",
       "      <td>19</td>\n",
       "      <td>426</td>\n",
       "    </tr>\n",
       "  </tbody>\n",
       "</table>\n",
       "</div>"
      ],
      "text/plain": [
       "                                   Genres    Source Type  Episodes  Score  \\\n",
       "0  Comedy, Romance, Shounen, Supernatural     Manga   TV        12   7.63   \n",
       "1                Comedy, Romance, Shounen     Manga   TV        26   7.89   \n",
       "2        Comedy, Romance, Fantasy, Shoujo     Manga   TV        51   7.55   \n",
       "3                Comedy, Romance, Fantasy  Original   TV        38   8.21   \n",
       "4                Comedy, Romance, Shounen     Manga   TV        25   8.67   \n",
       "\n",
       "   Favorites  Decimal  Popularity  \n",
       "0       2809      147         231  \n",
       "1       2579       19         366  \n",
       "2        802      519        1173  \n",
       "3       3344        7         916  \n",
       "4       2082       19         426  "
      ]
     },
     "execution_count": 42,
     "metadata": {},
     "output_type": "execute_result"
    }
   ],
   "source": [
    "dataset.head()"
   ]
  },
  {
   "cell_type": "code",
   "execution_count": 45,
   "metadata": {},
   "outputs": [
    {
     "data": {
      "image/png": "[encoded data removed]",
      "text/plain": [
       "<matplotlib.figure.Figure at 0x7f26f69a3e50>"
      ]
     },
     "metadata": {},
     "output_type": "display_data"
    }
   ],
   "source": [
    "plt.plot(dataset['Decimal'], dataset['Popularity'], 'o');"
   ]
  },
  {
   "cell_type": "markdown",
   "metadata": {},
   "source": [
    "### Training"
   ]
  },
  {
   "cell_type": "code",
   "execution_count": 31,
   "metadata": {},
   "outputs": [
    {
     "name": "stdout",
     "output_type": "stream",
     "text": [
      "<type 'numpy.ndarray'>\n"
     ]
    }
   ],
   "source": [
    "data = dataset.values\n",
    "X = data[:int(len(data)*0.7),6]\n",
    "y = data[:int(len(data)*0.7),7]\n",
    "X_t = data[int(len(data)*0.7):,6]\n",
    "y_t = data[int(len(data)*0.7):,7]"
   ]
  },
  {
   "cell_type": "code",
   "execution_count": 32,
   "metadata": {},
   "outputs": [
    {
     "data": {
      "text/plain": [
       "DecisionTreeRegressor(criterion='mse', max_depth=None, max_features=None,\n",
       "           max_leaf_nodes=None, min_impurity_decrease=0.0,\n",
       "           min_impurity_split=None, min_samples_leaf=1,\n",
       "           min_samples_split=2, min_weight_fraction_leaf=0.0,\n",
       "           presort=False, random_state=None, splitter='best')"
      ]
     },
     "execution_count": 32,
     "metadata": {},
     "output_type": "execute_result"
    }
   ],
   "source": [
    "DT_R = DecisionTreeRegressor()\n",
    "DT_R.fit(X.reshape(-1,1),y)"
   ]
  },
  {
   "cell_type": "code",
   "execution_count": 52,
   "metadata": {},
   "outputs": [
    {
     "data": {
      "text/plain": [
       "array([ 8099.33333333])"
      ]
     },
     "execution_count": 52,
     "metadata": {},
     "output_type": "execute_result"
    }
   ],
   "source": [
    "DT_R.predict(16)"
   ]
  },
  {
   "cell_type": "code",
   "execution_count": 55,
   "metadata": {},
   "outputs": [
    {
     "data": {
      "image/png": "[encoded data removed]",
      "text/plain": [
       "<matplotlib.figure.Figure at 0x7f26f4753f90>"
      ]
     },
     "metadata": {},
     "output_type": "display_data"
    }
   ],
   "source": [
    "xx = np.array([np.linspace(0, 131071, 40)]).T\n",
    "plt.plot(xx, DT_R.predict(xx), linewidth=4, alpha=.7, label='Prediccion');"
   ]
  },
  {
   "cell_type": "code",
   "execution_count": null,
   "metadata": {},
   "outputs": [],
   "source": []
  }
 ],
 "metadata": {
  "kernelspec": {
   "display_name": "Python 2",
   "language": "python",
   "name": "python2"
  },
  "language_info": {
   "codemirror_mode": {
    "name": "ipython",
    "version": 2
   },
   "file_extension": ".py",
   "mimetype": "text/x-python",
   "name": "python",
   "nbconvert_exporter": "python",
   "pygments_lexer": "ipython2",
   "version": "2.7.14"
  }
 },
 "nbformat": 4,
 "nbformat_minor": 2
}

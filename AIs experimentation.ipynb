{
 "cells": [
  {
   "cell_type": "code",
   "execution_count": 5,
   "metadata": {},
   "outputs": [],
   "source": [
    "import pandas as pd\n",
    "import numpy as np\n",
    "import matplotlib.pyplot as plt\n",
    "#Regressors\n",
    "from sklearn.tree import DecisionTreeRegressor\n",
    "from sklearn.svm import SVR\n",
    "from sklearn.ensemble import RandomForestRegressor\n",
    "from sklearn.ensemble import GradientBoostingRegressor\n",
    "from sklearn.ensemble import BaggingRegressor\n",
    "#Metrics\n",
    "from sklearn.model_selection import KFold\n",
    "from sklearn.model_selection import cross_val_score\n",
    "from sklearn.metrics import *\n",
    "%matplotlib inline\n",
    "#Clustering\n",
    "from sklearn.cluster import KMeans \n",
    "from sklearn.cluster import DBSCAN\n",
    "#Otros\n",
    "from sklearn.multioutput import MultiOutputRegressor"
   ]
  },
  {
   "cell_type": "markdown",
   "metadata": {},
   "source": [
    "### CSV Loading"
   ]
  },
  {
   "cell_type": "code",
   "execution_count": 6,
   "metadata": {},
   "outputs": [],
   "source": [
    "dataset = pd.read_csv('./data/t_data/anime_cleaned_treated_v2_10_b.csv')"
   ]
  },
  {
   "cell_type": "code",
   "execution_count": 7,
   "metadata": {},
   "outputs": [
    {
     "data": {
      "text/html": [
       "<div>\n",
       "<style scoped>\n",
       "    .dataframe tbody tr th:only-of-type {\n",
       "        vertical-align: middle;\n",
       "    }\n",
       "\n",
       "    .dataframe tbody tr th {\n",
       "        vertical-align: top;\n",
       "    }\n",
       "\n",
       "    .dataframe thead th {\n",
       "        text-align: right;\n",
       "    }\n",
       "</style>\n",
       "<table border=\"1\" class=\"dataframe\">\n",
       "  <thead>\n",
       "    <tr style=\"text-align: right;\">\n",
       "      <th></th>\n",
       "      <th>Genres</th>\n",
       "      <th>Episodes</th>\n",
       "      <th>Decimal</th>\n",
       "      <th>AiredYear</th>\n",
       "      <th>Type</th>\n",
       "      <th>Source</th>\n",
       "      <th>Romance</th>\n",
       "      <th>Shoujo</th>\n",
       "      <th>Ecchi</th>\n",
       "      <th>Shounen</th>\n",
       "      <th>...</th>\n",
       "      <th>Mistery</th>\n",
       "      <th>Thriller</th>\n",
       "      <th>Supernatural</th>\n",
       "      <th>Gore</th>\n",
       "      <th>SciFi</th>\n",
       "      <th>Action</th>\n",
       "      <th>Otro</th>\n",
       "      <th>Members</th>\n",
       "      <th>Score</th>\n",
       "      <th>Favorites</th>\n",
       "    </tr>\n",
       "  </thead>\n",
       "  <tbody>\n",
       "    <tr>\n",
       "      <th>0</th>\n",
       "      <td>Comedy, Romance, Shounen, Supernatural</td>\n",
       "      <td>12</td>\n",
       "      <td>147</td>\n",
       "      <td>2012.0</td>\n",
       "      <td>5</td>\n",
       "      <td>6</td>\n",
       "      <td>1</td>\n",
       "      <td>0</td>\n",
       "      <td>0</td>\n",
       "      <td>1</td>\n",
       "      <td>...</td>\n",
       "      <td>0</td>\n",
       "      <td>0</td>\n",
       "      <td>1</td>\n",
       "      <td>0</td>\n",
       "      <td>0</td>\n",
       "      <td>0</td>\n",
       "      <td>0</td>\n",
       "      <td>283882</td>\n",
       "      <td>7.63</td>\n",
       "      <td>2809</td>\n",
       "    </tr>\n",
       "    <tr>\n",
       "      <th>1</th>\n",
       "      <td>Comedy, Romance, Shounen</td>\n",
       "      <td>26</td>\n",
       "      <td>19</td>\n",
       "      <td>2007.0</td>\n",
       "      <td>5</td>\n",
       "      <td>6</td>\n",
       "      <td>1</td>\n",
       "      <td>0</td>\n",
       "      <td>0</td>\n",
       "      <td>1</td>\n",
       "      <td>...</td>\n",
       "      <td>0</td>\n",
       "      <td>0</td>\n",
       "      <td>0</td>\n",
       "      <td>0</td>\n",
       "      <td>0</td>\n",
       "      <td>0</td>\n",
       "      <td>0</td>\n",
       "      <td>204003</td>\n",
       "      <td>7.89</td>\n",
       "      <td>2579</td>\n",
       "    </tr>\n",
       "    <tr>\n",
       "      <th>2</th>\n",
       "      <td>Comedy, Romance, Fantasy, Shoujo</td>\n",
       "      <td>51</td>\n",
       "      <td>519</td>\n",
       "      <td>2008.0</td>\n",
       "      <td>5</td>\n",
       "      <td>6</td>\n",
       "      <td>1</td>\n",
       "      <td>1</td>\n",
       "      <td>0</td>\n",
       "      <td>0</td>\n",
       "      <td>...</td>\n",
       "      <td>0</td>\n",
       "      <td>0</td>\n",
       "      <td>0</td>\n",
       "      <td>0</td>\n",
       "      <td>0</td>\n",
       "      <td>0</td>\n",
       "      <td>0</td>\n",
       "      <td>70127</td>\n",
       "      <td>7.55</td>\n",
       "      <td>802</td>\n",
       "    </tr>\n",
       "    <tr>\n",
       "      <th>3</th>\n",
       "      <td>Comedy, Romance, Fantasy</td>\n",
       "      <td>38</td>\n",
       "      <td>7</td>\n",
       "      <td>2002.0</td>\n",
       "      <td>5</td>\n",
       "      <td>9</td>\n",
       "      <td>1</td>\n",
       "      <td>0</td>\n",
       "      <td>0</td>\n",
       "      <td>0</td>\n",
       "      <td>...</td>\n",
       "      <td>0</td>\n",
       "      <td>0</td>\n",
       "      <td>0</td>\n",
       "      <td>0</td>\n",
       "      <td>0</td>\n",
       "      <td>0</td>\n",
       "      <td>0</td>\n",
       "      <td>93312</td>\n",
       "      <td>8.21</td>\n",
       "      <td>3344</td>\n",
       "    </tr>\n",
       "    <tr>\n",
       "      <th>4</th>\n",
       "      <td>Comedy, Romance, Shounen</td>\n",
       "      <td>25</td>\n",
       "      <td>19</td>\n",
       "      <td>2012.0</td>\n",
       "      <td>5</td>\n",
       "      <td>6</td>\n",
       "      <td>1</td>\n",
       "      <td>0</td>\n",
       "      <td>0</td>\n",
       "      <td>1</td>\n",
       "      <td>...</td>\n",
       "      <td>0</td>\n",
       "      <td>0</td>\n",
       "      <td>0</td>\n",
       "      <td>0</td>\n",
       "      <td>0</td>\n",
       "      <td>0</td>\n",
       "      <td>0</td>\n",
       "      <td>182765</td>\n",
       "      <td>8.67</td>\n",
       "      <td>2082</td>\n",
       "    </tr>\n",
       "  </tbody>\n",
       "</table>\n",
       "<p>5 rows × 26 columns</p>\n",
       "</div>"
      ],
      "text/plain": [
       "                                   Genres  Episodes  Decimal  AiredYear  Type  \\\n",
       "0  Comedy, Romance, Shounen, Supernatural        12      147     2012.0     5   \n",
       "1                Comedy, Romance, Shounen        26       19     2007.0     5   \n",
       "2        Comedy, Romance, Fantasy, Shoujo        51      519     2008.0     5   \n",
       "3                Comedy, Romance, Fantasy        38        7     2002.0     5   \n",
       "4                Comedy, Romance, Shounen        25       19     2012.0     5   \n",
       "\n",
       "   Source  Romance  Shoujo  Ecchi  Shounen    ...      Mistery  Thriller  \\\n",
       "0       6        1       0      0        1    ...            0         0   \n",
       "1       6        1       0      0        1    ...            0         0   \n",
       "2       6        1       1      0        0    ...            0         0   \n",
       "3       9        1       0      0        0    ...            0         0   \n",
       "4       6        1       0      0        1    ...            0         0   \n",
       "\n",
       "   Supernatural  Gore  SciFi  Action  Otro  Members  Score  Favorites  \n",
       "0             1     0      0       0     0   283882   7.63       2809  \n",
       "1             0     0      0       0     0   204003   7.89       2579  \n",
       "2             0     0      0       0     0    70127   7.55        802  \n",
       "3             0     0      0       0     0    93312   8.21       3344  \n",
       "4             0     0      0       0     0   182765   8.67       2082  \n",
       "\n",
       "[5 rows x 26 columns]"
      ]
     },
     "execution_count": 7,
     "metadata": {},
     "output_type": "execute_result"
    }
   ],
   "source": [
    "dataset.head()"
   ]
  },
  {
   "cell_type": "markdown",
   "metadata": {},
   "source": [
    "### Training"
   ]
  },
  {
   "cell_type": "code",
   "execution_count": 8,
   "metadata": {},
   "outputs": [
    {
     "name": "stdout",
     "output_type": "stream",
     "text": [
      "[2012.0 5 6 1 0 0 1 0 1 0 0 0 0 0 0 1 0 0 0 0] [283882 7.63 2809]\n"
     ]
    }
   ],
   "source": [
    "data = dataset.values\n",
    "x = data[:,3:23]\n",
    "Y = data[:,23:]\n",
    "X = data[:int(len(data)*0.7),3:23]\n",
    "y = data[:int(len(data)*0.7),23:]\n",
    "X_t = data[int(len(data)*0.7):,3:23]\n",
    "y_t = data[int(len(data)*0.7):,23:]\n",
    "print X[0],y[0]"
   ]
  },
  {
   "cell_type": "code",
   "execution_count": 9,
   "metadata": {},
   "outputs": [],
   "source": [
    "DT_R = DecisionTreeRegressor(max_depth=5)\n",
    "RF_R = RandomForestRegressor(n_estimators=40)\n",
    "GB_R = MultiOutputRegressor(GradientBoostingRegressor())\n",
    "BG_R = MultiOutputRegressor(BaggingRegressor(base_estimator=GradientBoostingRegressor()))\n",
    "#GB_R = GradientBoostingRegressor()\n",
    "#np.array([6,5,12,147]).reshape(1,-1)"
   ]
  },
  {
   "cell_type": "code",
   "execution_count": 10,
   "metadata": {},
   "outputs": [
    {
     "data": {
      "text/plain": [
       "MultiOutputRegressor(estimator=BaggingRegressor(base_estimator=GradientBoostingRegressor(alpha=0.9, criterion='friedman_mse', init=None,\n",
       "             learning_rate=0.1, loss='ls', max_depth=3, max_features=None,\n",
       "             max_leaf_nodes=None, min_impurity_decrease=0.0,\n",
       "             min_impurity_split=None, min_sample...n_estimators=10, n_jobs=1, oob_score=False,\n",
       "         random_state=None, verbose=0, warm_start=False),\n",
       "           n_jobs=1)"
      ]
     },
     "execution_count": 10,
     "metadata": {},
     "output_type": "execute_result"
    }
   ],
   "source": [
    "DT_R.fit(X,y)\n",
    "RF_R.fit(X,y)\n",
    "GB_R.fit(X,y)\n",
    "BG_R.fit(X,y)"
   ]
  },
  {
   "cell_type": "code",
   "execution_count": 11,
   "metadata": {},
   "outputs": [
    {
     "name": "stdout",
     "output_type": "stream",
     "text": [
      "=============\n",
      "[[  8.18362750e+04   7.43250000e+00   7.16200000e+02]]\n",
      "[[  1.96650178e+05   7.53775862e+00   2.74721839e+03]]\n",
      "[[  1.14153899e+05   7.48935425e+00   1.40132153e+03]]\n",
      "[[  1.25774869e+05   7.45760332e+00   1.50701505e+03]]\n",
      "[699351 8.56 21248]\n",
      "=============\n",
      "[[  9.38912500e+03   6.67237500e+00   4.10000000e+01]]\n",
      "[[ 4359.29951691     6.28183575    24.6763285 ]]\n",
      "[[ 1759.72128891     6.6086022   -306.1686141 ]]\n",
      "[[ 4425.03418747     6.6735526   -124.97645457]]\n",
      "[12381 7.23 108]\n",
      "=============\n",
      "[[  2.20615812e+04   6.82516667e+00   4.47354167e+01]]\n",
      "[[  3.08872201e+04   7.06918239e+00   7.59371069e+01]]\n",
      "[[  2.13845184e+04   7.05577976e+00   1.16737297e+02]]\n",
      "[[  2.59513944e+04   7.06910185e+00   3.72984011e+02]]\n",
      "[4533 6.01 4]\n"
     ]
    }
   ],
   "source": [
    "for i in range(3):\n",
    "    print \"=============\"\n",
    "    print RF_R.predict(X_t[i].reshape(1,-1))\n",
    "    print DT_R.predict(X_t[i].reshape(1,-1))\n",
    "    print GB_R.predict(X_t[i].reshape(1,-1))\n",
    "    print BG_R.predict(X_t[i].reshape(1,-1))\n",
    "    print y_t[i]"
   ]
  },
  {
   "cell_type": "markdown",
   "metadata": {},
   "source": [
    "### Results"
   ]
  },
  {
   "cell_type": "code",
   "execution_count": 21,
   "metadata": {},
   "outputs": [
    {
     "name": "stdout",
     "output_type": "stream",
     "text": [
      "RMSE 56645.444\n",
      "RMSE 52301.862\n",
      "RMSE 49177.376\n",
      "RMSE 47417.649\n"
     ]
    }
   ],
   "source": [
    "DT_predicts = DT_R.predict(X_t)\n",
    "RF_predicts = RF_R.predict(X_t)\n",
    "GB_predicts = GB_R.predict(X_t)\n",
    "BG_predicts = BG_R.predict(X_t)\n",
    "print \"RMSE %.3f\"% np.sqrt(mean_squared_error(y_t, DT_predicts))\n",
    "print \"RMSE %.3f\"% np.sqrt(mean_squared_error(y_t, RF_predicts))\n",
    "print \"RMSE %.3f\"% np.sqrt(mean_squared_error(y_t, GB_predicts))\n",
    "print \"RMSE %.3f\"% np.sqrt(mean_squared_error(y_t, BG_predicts))"
   ]
  },
  {
   "cell_type": "markdown",
   "metadata": {},
   "source": [
    "### Arbitrary new anime prediction test"
   ]
  },
  {
   "cell_type": "code",
   "execution_count": 28,
   "metadata": {},
   "outputs": [],
   "source": [
    "new_anime = np.array([2020,9,5,1,0,0,0,1,1,1,0,0,0,0,0,0,0,0,0,1]).reshape(1,-1)"
   ]
  },
  {
   "cell_type": "code",
   "execution_count": 29,
   "metadata": {},
   "outputs": [
    {
     "data": {
      "text/plain": [
       "array([[  1.48564065e+05,   7.32543677e+00,   1.92537660e+03]])"
      ]
     },
     "execution_count": 29,
     "metadata": {},
     "output_type": "execute_result"
    }
   ],
   "source": [
    "BG_R.predict(new_anime)"
   ]
  },
  {
   "cell_type": "markdown",
   "metadata": {},
   "source": [
    "### Object persistence"
   ]
  },
  {
   "cell_type": "code",
   "execution_count": 30,
   "metadata": {},
   "outputs": [],
   "source": [
    "import pickle\n",
    "with open('./data/objects/regressors.pkl', 'wb') as output:\n",
    "    pickle.dump(DT_R, output, pickle.HIGHEST_PROTOCOL)\n",
    "    pickle.dump(RF_R, output, pickle.HIGHEST_PROTOCOL)\n",
    "    pickle.dump(GB_R, output, pickle.HIGHEST_PROTOCOL)\n",
    "    pickle.dump(BG_R, output, pickle.HIGHEST_PROTOCOL)"
   ]
  },
  {
   "cell_type": "code",
   "execution_count": null,
   "metadata": {},
   "outputs": [],
   "source": []
  }
 ],
 "metadata": {
  "kernelspec": {
   "display_name": "Python 2",
   "language": "python",
   "name": "python2"
  },
  "language_info": {
   "codemirror_mode": {
    "name": "ipython",
    "version": 2
   },
   "file_extension": ".py",
   "mimetype": "text/x-python",
   "name": "python",
   "nbconvert_exporter": "python",
   "pygments_lexer": "ipython2",
   "version": "2.7.14"
  }
 },
 "nbformat": 4,
 "nbformat_minor": 2
}

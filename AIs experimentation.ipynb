{
 "cells": [
  {
   "cell_type": "code",
   "execution_count": 855,
   "metadata": {},
   "outputs": [],
   "source": [
    "import pandas as pd\n",
    "import numpy as np\n",
    "import matplotlib.pyplot as plt\n",
    "#Regressors\n",
    "from sklearn.tree import DecisionTreeRegressor\n",
    "from sklearn.svm import SVR\n",
    "from sklearn.ensemble import RandomForestRegressor\n",
    "from sklearn.ensemble import GradientBoostingRegressor\n",
    "#Metrics\n",
    "from sklearn.model_selection import KFold\n",
    "from sklearn.model_selection import cross_val_score\n",
    "from sklearn.metrics import *\n",
    "%matplotlib inline\n",
    "#Clustering\n",
    "from sklearn.cluster import KMeans \n",
    "from sklearn.cluster import DBSCAN\n",
    "#Otros\n",
    "from sklearn.multioutput import MultiOutputRegressor"
   ]
  },
  {
   "cell_type": "markdown",
   "metadata": {},
   "source": [
    "### CSV Loading"
   ]
  },
  {
   "cell_type": "code",
   "execution_count": 485,
   "metadata": {},
   "outputs": [],
   "source": [
    "dataset = pd.read_csv('./data/t_data/anime_cleaned_treated_v2_1.csv')"
   ]
  },
  {
   "cell_type": "code",
   "execution_count": 486,
   "metadata": {},
   "outputs": [
    {
     "data": {
      "text/html": [
       "<div>\n",
       "<style scoped>\n",
       "    .dataframe tbody tr th:only-of-type {\n",
       "        vertical-align: middle;\n",
       "    }\n",
       "\n",
       "    .dataframe tbody tr th {\n",
       "        vertical-align: top;\n",
       "    }\n",
       "\n",
       "    .dataframe thead th {\n",
       "        text-align: right;\n",
       "    }\n",
       "</style>\n",
       "<table border=\"1\" class=\"dataframe\">\n",
       "  <thead>\n",
       "    <tr style=\"text-align: right;\">\n",
       "      <th></th>\n",
       "      <th>Genres</th>\n",
       "      <th>Source</th>\n",
       "      <th>Type</th>\n",
       "      <th>Episodes</th>\n",
       "      <th>Decimal</th>\n",
       "      <th>Romance</th>\n",
       "      <th>Shoujo</th>\n",
       "      <th>Ecchi</th>\n",
       "      <th>Shounen</th>\n",
       "      <th>Fantasy</th>\n",
       "      <th>...</th>\n",
       "      <th>Mistery</th>\n",
       "      <th>Thriller</th>\n",
       "      <th>Supernatural</th>\n",
       "      <th>Gore</th>\n",
       "      <th>SciFi</th>\n",
       "      <th>Action</th>\n",
       "      <th>Otro</th>\n",
       "      <th>Popularity</th>\n",
       "      <th>Score</th>\n",
       "      <th>Favorites</th>\n",
       "    </tr>\n",
       "  </thead>\n",
       "  <tbody>\n",
       "    <tr>\n",
       "      <th>0</th>\n",
       "      <td>Comedy, Romance, Shounen, Supernatural</td>\n",
       "      <td>6</td>\n",
       "      <td>5</td>\n",
       "      <td>12</td>\n",
       "      <td>147</td>\n",
       "      <td>1</td>\n",
       "      <td>0</td>\n",
       "      <td>0</td>\n",
       "      <td>1</td>\n",
       "      <td>0</td>\n",
       "      <td>...</td>\n",
       "      <td>0</td>\n",
       "      <td>0</td>\n",
       "      <td>1</td>\n",
       "      <td>0</td>\n",
       "      <td>0</td>\n",
       "      <td>0</td>\n",
       "      <td>0</td>\n",
       "      <td>231</td>\n",
       "      <td>7.63</td>\n",
       "      <td>2809</td>\n",
       "    </tr>\n",
       "    <tr>\n",
       "      <th>1</th>\n",
       "      <td>Comedy, Romance, Shounen</td>\n",
       "      <td>6</td>\n",
       "      <td>5</td>\n",
       "      <td>26</td>\n",
       "      <td>19</td>\n",
       "      <td>1</td>\n",
       "      <td>0</td>\n",
       "      <td>0</td>\n",
       "      <td>1</td>\n",
       "      <td>0</td>\n",
       "      <td>...</td>\n",
       "      <td>0</td>\n",
       "      <td>0</td>\n",
       "      <td>0</td>\n",
       "      <td>0</td>\n",
       "      <td>0</td>\n",
       "      <td>0</td>\n",
       "      <td>0</td>\n",
       "      <td>366</td>\n",
       "      <td>7.89</td>\n",
       "      <td>2579</td>\n",
       "    </tr>\n",
       "    <tr>\n",
       "      <th>2</th>\n",
       "      <td>Comedy, Romance, Fantasy, Shoujo</td>\n",
       "      <td>6</td>\n",
       "      <td>5</td>\n",
       "      <td>51</td>\n",
       "      <td>519</td>\n",
       "      <td>1</td>\n",
       "      <td>1</td>\n",
       "      <td>0</td>\n",
       "      <td>0</td>\n",
       "      <td>1</td>\n",
       "      <td>...</td>\n",
       "      <td>0</td>\n",
       "      <td>0</td>\n",
       "      <td>0</td>\n",
       "      <td>0</td>\n",
       "      <td>0</td>\n",
       "      <td>0</td>\n",
       "      <td>0</td>\n",
       "      <td>1173</td>\n",
       "      <td>7.55</td>\n",
       "      <td>802</td>\n",
       "    </tr>\n",
       "    <tr>\n",
       "      <th>3</th>\n",
       "      <td>Comedy, Romance, Fantasy</td>\n",
       "      <td>9</td>\n",
       "      <td>5</td>\n",
       "      <td>38</td>\n",
       "      <td>7</td>\n",
       "      <td>1</td>\n",
       "      <td>0</td>\n",
       "      <td>0</td>\n",
       "      <td>0</td>\n",
       "      <td>1</td>\n",
       "      <td>...</td>\n",
       "      <td>0</td>\n",
       "      <td>0</td>\n",
       "      <td>0</td>\n",
       "      <td>0</td>\n",
       "      <td>0</td>\n",
       "      <td>0</td>\n",
       "      <td>0</td>\n",
       "      <td>916</td>\n",
       "      <td>8.21</td>\n",
       "      <td>3344</td>\n",
       "    </tr>\n",
       "    <tr>\n",
       "      <th>4</th>\n",
       "      <td>Comedy, Romance, Shounen</td>\n",
       "      <td>6</td>\n",
       "      <td>5</td>\n",
       "      <td>25</td>\n",
       "      <td>19</td>\n",
       "      <td>1</td>\n",
       "      <td>0</td>\n",
       "      <td>0</td>\n",
       "      <td>1</td>\n",
       "      <td>0</td>\n",
       "      <td>...</td>\n",
       "      <td>0</td>\n",
       "      <td>0</td>\n",
       "      <td>0</td>\n",
       "      <td>0</td>\n",
       "      <td>0</td>\n",
       "      <td>0</td>\n",
       "      <td>0</td>\n",
       "      <td>426</td>\n",
       "      <td>8.67</td>\n",
       "      <td>2082</td>\n",
       "    </tr>\n",
       "  </tbody>\n",
       "</table>\n",
       "<p>5 rows × 25 columns</p>\n",
       "</div>"
      ],
      "text/plain": [
       "                                   Genres  Source  Type  Episodes  Decimal  \\\n",
       "0  Comedy, Romance, Shounen, Supernatural       6     5        12      147   \n",
       "1                Comedy, Romance, Shounen       6     5        26       19   \n",
       "2        Comedy, Romance, Fantasy, Shoujo       6     5        51      519   \n",
       "3                Comedy, Romance, Fantasy       9     5        38        7   \n",
       "4                Comedy, Romance, Shounen       6     5        25       19   \n",
       "\n",
       "   Romance  Shoujo  Ecchi  Shounen  Fantasy    ...      Mistery  Thriller  \\\n",
       "0        1       0      0        1        0    ...            0         0   \n",
       "1        1       0      0        1        0    ...            0         0   \n",
       "2        1       1      0        0        1    ...            0         0   \n",
       "3        1       0      0        0        1    ...            0         0   \n",
       "4        1       0      0        1        0    ...            0         0   \n",
       "\n",
       "   Supernatural  Gore  SciFi  Action  Otro  Popularity  Score  Favorites  \n",
       "0             1     0      0       0     0         231   7.63       2809  \n",
       "1             0     0      0       0     0         366   7.89       2579  \n",
       "2             0     0      0       0     0        1173   7.55        802  \n",
       "3             0     0      0       0     0         916   8.21       3344  \n",
       "4             0     0      0       0     0         426   8.67       2082  \n",
       "\n",
       "[5 rows x 25 columns]"
      ]
     },
     "execution_count": 486,
     "metadata": {},
     "output_type": "execute_result"
    }
   ],
   "source": [
    "dataset.head()"
   ]
  },
  {
   "cell_type": "markdown",
   "metadata": {},
   "source": [
    "### Training"
   ]
  },
  {
   "cell_type": "code",
   "execution_count": 851,
   "metadata": {},
   "outputs": [
    {
     "name": "stdout",
     "output_type": "stream",
     "text": [
      "[231 7.63]\n"
     ]
    }
   ],
   "source": [
    "data = dataset.values\n",
    "X = data[:int(len(data)*0.7),1:22]\n",
    "y = data[:int(len(data)*0.7),22:24]\n",
    "X_t = data[int(len(data)*0.7):,1:22]\n",
    "y_t = data[int(len(data)*0.7):,22:24]\n",
    "print y[0]"
   ]
  },
  {
   "cell_type": "code",
   "execution_count": 856,
   "metadata": {},
   "outputs": [],
   "source": [
    "DT_R = DecisionTreeRegressor(max_depth=5)\n",
    "RF_R = RandomForestRegressor(n_estimators=40)\n",
    "GB_R = MultiOutputRegressor(GradientBoostingRegressor())\n",
    "#np.array([6,5,12,147]).reshape(1,-1)"
   ]
  },
  {
   "cell_type": "code",
   "execution_count": 857,
   "metadata": {},
   "outputs": [
    {
     "data": {
      "text/plain": [
       "MultiOutputRegressor(estimator=GradientBoostingRegressor(alpha=0.9, criterion='friedman_mse', init=None,\n",
       "             learning_rate=0.1, loss='ls', max_depth=3, max_features=None,\n",
       "             max_leaf_nodes=None, min_impurity_decrease=0.0,\n",
       "             min_impurity_split=None, min_samples_leaf=1,\n",
       "             min_samples_split=2, min_weight_fraction_leaf=0.0,\n",
       "             n_estimators=100, presort='auto', random_state=None,\n",
       "             subsample=1.0, verbose=0, warm_start=False),\n",
       "           n_jobs=1)"
      ]
     },
     "execution_count": 857,
     "metadata": {},
     "output_type": "execute_result"
    }
   ],
   "source": [
    "DT_R.fit(X,y)\n",
    "RF_R.fit(X,y)\n",
    "GB_R.fit(X,y)"
   ]
  },
  {
   "cell_type": "code",
   "execution_count": 847,
   "metadata": {},
   "outputs": [
    {
     "name": "stdout",
     "output_type": "stream",
     "text": [
      "=============\n",
      "[ 1809.39166667]\n",
      "[ 3231.96540362]\n",
      "[ 2334.3658176]\n",
      "40\n",
      "=============\n",
      "[ 4801.64]\n",
      "[ 5715.97260274]\n",
      "[ 5382.30646749]\n",
      "3370\n",
      "=============\n",
      "[ 4010.55]\n",
      "[ 3325.4379562]\n",
      "[ 3713.54253324]\n",
      "5068\n",
      "=============\n",
      "[ 2530.86666667]\n",
      "[ 2011.57080132]\n",
      "[ 1784.57310886]\n",
      "2088\n",
      "=============\n",
      "[ 9529.53041667]\n",
      "[ 7203.13432836]\n",
      "[ 7800.29689645]\n",
      "10312\n",
      "=============\n",
      "[ 8188.19791667]\n",
      "[ 7203.13432836]\n",
      "[ 6250.39246821]\n",
      "9390\n",
      "=============\n",
      "[ 3095.8]\n",
      "[ 3913.33333333]\n",
      "[ 3959.41475762]\n",
      "1621\n",
      "=============\n",
      "[ 1368.99166667]\n",
      "[ 2011.57080132]\n",
      "[ 617.57260891]\n",
      "540\n",
      "=============\n",
      "[ 398.13541667]\n",
      "[ 3231.96540362]\n",
      "[ 1387.48239655]\n",
      "1264\n",
      "=============\n",
      "[ 4082.2]\n",
      "[ 3325.4379562]\n",
      "[ 4209.10730399]\n",
      "3683\n"
     ]
    }
   ],
   "source": [
    "for i in range(10):\n",
    "    print \"=============\"\n",
    "    print RF_R.predict(X_t[i].reshape(1,-1))\n",
    "    print DT_R.predict(X_t[i].reshape(1,-1))\n",
    "    print GB_R.predict(X_t[i].reshape(1,-1))\n",
    "    print y_t[i]"
   ]
  },
  {
   "cell_type": "code",
   "execution_count": 858,
   "metadata": {},
   "outputs": [
    {
     "name": "stdout",
     "output_type": "stream",
     "text": [
      "MSE 2207.564 (+/- 691.70861)\n"
     ]
    }
   ],
   "source": [
    "s = cross_val_score(DT_R, X_t, y_t, scoring=make_scorer(mean_squared_error))\n",
    "print \"MSE %.3f (+/- %.5f)\"%(np.sqrt(np.mean(s)), np.sqrt(np.std(s)))"
   ]
  },
  {
   "cell_type": "code",
   "execution_count": 859,
   "metadata": {},
   "outputs": [
    {
     "name": "stdout",
     "output_type": "stream",
     "text": [
      "MSE 2054.541 (+/- 685.06631)\n"
     ]
    }
   ],
   "source": [
    "s = cross_val_score(RF_R, X_t, y_t, scoring=make_scorer(mean_squared_error))\n",
    "print \"MSE %.3f (+/- %.5f)\"%(np.sqrt(np.mean(s)), np.sqrt(np.std(s)))"
   ]
  },
  {
   "cell_type": "code",
   "execution_count": 860,
   "metadata": {},
   "outputs": [
    {
     "name": "stdout",
     "output_type": "stream",
     "text": [
      "MSE 1979.930 (+/- 788.60557)\n"
     ]
    }
   ],
   "source": [
    "s = cross_val_score(GB_R, X_t, y_t, scoring=make_scorer(mean_squared_error))\n",
    "print \"MSE %.3f (+/- %.5f)\"%(np.sqrt(np.mean(s)), np.sqrt(np.std(s)))"
   ]
  },
  {
   "cell_type": "markdown",
   "metadata": {},
   "source": [
    "### Pruebas de predicciones arbitrarias"
   ]
  },
  {
   "cell_type": "code",
   "execution_count": 924,
   "metadata": {},
   "outputs": [],
   "source": [
    "new_anime = np.array([6,5,24,50822,1,1,0,0,0,0,0,0,1,0,1,1,1,0,1,0,0]).reshape(1,-1)"
   ]
  },
  {
   "cell_type": "code",
   "execution_count": 929,
   "metadata": {},
   "outputs": [
    {
     "data": {
      "text/plain": [
       "array([[ 2545.09202523,     6.90995925]])"
      ]
     },
     "execution_count": 929,
     "metadata": {},
     "output_type": "execute_result"
    }
   ],
   "source": [
    "GB_R.predict(new_anime)"
   ]
  },
  {
   "cell_type": "code",
   "execution_count": null,
   "metadata": {},
   "outputs": [],
   "source": []
  }
 ],
 "metadata": {
  "kernelspec": {
   "display_name": "Python 2",
   "language": "python",
   "name": "python2"
  },
  "language_info": {
   "codemirror_mode": {
    "name": "ipython",
    "version": 2
   },
   "file_extension": ".py",
   "mimetype": "text/x-python",
   "name": "python",
   "nbconvert_exporter": "python",
   "pygments_lexer": "ipython2",
   "version": "2.7.14"
  }
 },
 "nbformat": 4,
 "nbformat_minor": 2
}
